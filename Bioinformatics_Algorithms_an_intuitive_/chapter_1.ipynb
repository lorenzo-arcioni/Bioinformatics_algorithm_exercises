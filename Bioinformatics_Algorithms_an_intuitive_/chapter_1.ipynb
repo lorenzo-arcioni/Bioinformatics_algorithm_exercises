{
 "cells": [
  {
   "cell_type": "markdown",
   "metadata": {},
   "source": [
    "# Bioinformatics Algorithms: An active learning approach vol 2 3rd edition\n",
    "## Chapter 1\n",
    "\n",
    "First chapter exercises solutions."
   ]
  },
  {
   "cell_type": "markdown",
   "metadata": {},
   "source": [
    "### Pattern count function\n",
    "\n",
    "A simple function that count the occurrence of a word in a text."
   ]
  },
  {
   "cell_type": "code",
   "execution_count": 3,
   "metadata": {},
   "outputs": [
    {
     "name": "stdout",
     "output_type": "stream",
     "text": [
      "3\n"
     ]
    }
   ],
   "source": [
    "def PatternCount(text, pattern):\n",
    "    count = 0\n",
    "    for i in range(len(text) - len(pattern) + 1):\n",
    "        if text[i : i + len(pattern)] == pattern:\n",
    "            count += 1\n",
    "    return count\n",
    "\n",
    "text    = \"TACCGCTCATGATATGTGAATAAAACAATACAATT\"\n",
    "pattern = \"ATA\"\n",
    "\n",
    "print(PatternCount(text, pattern))"
   ]
  },
  {
   "cell_type": "code",
   "execution_count": null,
   "metadata": {},
   "outputs": [],
   "source": []
  }
 ],
 "metadata": {
  "kernelspec": {
   "display_name": "datas",
   "language": "python",
   "name": "python3"
  },
  "language_info": {
   "codemirror_mode": {
    "name": "ipython",
    "version": 3
   },
   "file_extension": ".py",
   "mimetype": "text/x-python",
   "name": "python",
   "nbconvert_exporter": "python",
   "pygments_lexer": "ipython3",
   "version": "3.10.11"
  }
 },
 "nbformat": 4,
 "nbformat_minor": 2
}
